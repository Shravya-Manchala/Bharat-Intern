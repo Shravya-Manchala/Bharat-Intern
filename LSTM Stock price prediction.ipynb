{
 "cells": [
  {
   "cell_type": "markdown",
   "id": "e0559d18-2f0e-4ea5-bc78-94e9c9cedec7",
   "metadata": {},
   "source": [
    "# Stock Price Prediction using LSTM"
   ]
  },
  {
   "cell_type": "markdown",
   "id": "0b1e0c72-385c-4707-be80-7946651cfadd",
   "metadata": {},
   "source": [
    "### Importing libraries"
   ]
  },
  {
   "cell_type": "code",
   "execution_count": 1,
   "id": "5c612a6c-e53e-49ca-93c4-3f1a589981fa",
   "metadata": {},
   "outputs": [],
   "source": [
    "import pandas as pd\n",
    "import tensorflow as tf\n",
    "import numpy as np\n",
    "import matplotlib.pyplot as plt\n",
    "from sklearn.preprocessing import MinMaxScaler\n",
    "from tensorflow.keras.models import Sequential\n",
    "from tensorflow.keras.layers import Dense\n",
    "from tensorflow.keras.layers import LSTM\n",
    "import math\n",
    "from sklearn.metrics import mean_squared_error\n",
    "from numpy import array"
   ]
  },
  {
   "cell_type": "markdown",
   "id": "a61f34bb-eeae-4c76-a105-93075ef7d6c9",
   "metadata": {},
   "source": [
    "### Fetching data"
   ]
  },
  {
   "cell_type": "code",
   "execution_count": 2,
   "id": "cce75a34-42b0-4be5-850c-f22c42b93364",
   "metadata": {},
   "outputs": [
    {
     "data": {
      "text/html": [
       "<div>\n",
       "<style scoped>\n",
       "    .dataframe tbody tr th:only-of-type {\n",
       "        vertical-align: middle;\n",
       "    }\n",
       "\n",
       "    .dataframe tbody tr th {\n",
       "        vertical-align: top;\n",
       "    }\n",
       "\n",
       "    .dataframe thead th {\n",
       "        text-align: right;\n",
       "    }\n",
       "</style>\n",
       "<table border=\"1\" class=\"dataframe\">\n",
       "  <thead>\n",
       "    <tr style=\"text-align: right;\">\n",
       "      <th></th>\n",
       "      <th>Date</th>\n",
       "      <th>Open</th>\n",
       "      <th>High</th>\n",
       "      <th>Low</th>\n",
       "      <th>Close</th>\n",
       "      <th>Adj Close</th>\n",
       "      <th>Volume</th>\n",
       "    </tr>\n",
       "  </thead>\n",
       "  <tbody>\n",
       "    <tr>\n",
       "      <th>0</th>\n",
       "      <td>2002-05-23</td>\n",
       "      <td>1.156429</td>\n",
       "      <td>1.242857</td>\n",
       "      <td>1.145714</td>\n",
       "      <td>1.196429</td>\n",
       "      <td>1.196429</td>\n",
       "      <td>104790000</td>\n",
       "    </tr>\n",
       "    <tr>\n",
       "      <th>1</th>\n",
       "      <td>2002-05-24</td>\n",
       "      <td>1.214286</td>\n",
       "      <td>1.225000</td>\n",
       "      <td>1.197143</td>\n",
       "      <td>1.210000</td>\n",
       "      <td>1.210000</td>\n",
       "      <td>11104800</td>\n",
       "    </tr>\n",
       "    <tr>\n",
       "      <th>2</th>\n",
       "      <td>2002-05-28</td>\n",
       "      <td>1.213571</td>\n",
       "      <td>1.232143</td>\n",
       "      <td>1.157143</td>\n",
       "      <td>1.157143</td>\n",
       "      <td>1.157143</td>\n",
       "      <td>6609400</td>\n",
       "    </tr>\n",
       "    <tr>\n",
       "      <th>3</th>\n",
       "      <td>2002-05-29</td>\n",
       "      <td>1.164286</td>\n",
       "      <td>1.164286</td>\n",
       "      <td>1.085714</td>\n",
       "      <td>1.103571</td>\n",
       "      <td>1.103571</td>\n",
       "      <td>6757800</td>\n",
       "    </tr>\n",
       "    <tr>\n",
       "      <th>4</th>\n",
       "      <td>2002-05-30</td>\n",
       "      <td>1.107857</td>\n",
       "      <td>1.107857</td>\n",
       "      <td>1.071429</td>\n",
       "      <td>1.071429</td>\n",
       "      <td>1.071429</td>\n",
       "      <td>10154200</td>\n",
       "    </tr>\n",
       "  </tbody>\n",
       "</table>\n",
       "</div>"
      ],
      "text/plain": [
       "         Date      Open      High       Low     Close  Adj Close     Volume\n",
       "0  2002-05-23  1.156429  1.242857  1.145714  1.196429   1.196429  104790000\n",
       "1  2002-05-24  1.214286  1.225000  1.197143  1.210000   1.210000   11104800\n",
       "2  2002-05-28  1.213571  1.232143  1.157143  1.157143   1.157143    6609400\n",
       "3  2002-05-29  1.164286  1.164286  1.085714  1.103571   1.103571    6757800\n",
       "4  2002-05-30  1.107857  1.107857  1.071429  1.071429   1.071429   10154200"
      ]
     },
     "execution_count": 2,
     "metadata": {},
     "output_type": "execute_result"
    }
   ],
   "source": [
    "df = pd.read_csv(\"NFLX.csv\")\n",
    "df.head()"
   ]
  },
  {
   "cell_type": "code",
   "execution_count": 3,
   "id": "774726bd-9da9-4af9-80eb-a28339862621",
   "metadata": {},
   "outputs": [
    {
     "data": {
      "text/plain": [
       "(5329, 7)"
      ]
     },
     "execution_count": 3,
     "metadata": {},
     "output_type": "execute_result"
    }
   ],
   "source": [
    "df.shape"
   ]
  },
  {
   "cell_type": "code",
   "execution_count": 4,
   "id": "6b593d26-5e5d-4be8-971c-21d80e3a3ddc",
   "metadata": {},
   "outputs": [
    {
     "data": {
      "text/plain": [
       "0    1.196429\n",
       "1    1.210000\n",
       "2    1.157143\n",
       "3    1.103571\n",
       "4    1.071429\n",
       "Name: Close, dtype: float64"
      ]
     },
     "execution_count": 4,
     "metadata": {},
     "output_type": "execute_result"
    }
   ],
   "source": [
    "df1 = df.reset_index()['Close']\n",
    "df1.head()"
   ]
  },
  {
   "cell_type": "code",
   "execution_count": 5,
   "id": "3f9e93de-fa89-4f1b-a2dc-b437aa2b9dd9",
   "metadata": {},
   "outputs": [
    {
     "data": {
      "text/plain": [
       "(5329,)"
      ]
     },
     "execution_count": 5,
     "metadata": {},
     "output_type": "execute_result"
    }
   ],
   "source": [
    "df1.shape"
   ]
  },
  {
   "cell_type": "code",
   "execution_count": 6,
   "id": "ac024b7c-1f84-45b2-a8fb-1a09167855e4",
   "metadata": {},
   "outputs": [
    {
     "data": {
      "text/plain": [
       "[<matplotlib.lines.Line2D at 0x1b11051f590>]"
      ]
     },
     "execution_count": 6,
     "metadata": {},
     "output_type": "execute_result"
    },
    {
     "data": {
      "image/png": "[encoded data removed]",
      "text/plain": [
       "<Figure size 640x480 with 1 Axes>"
      ]
     },
     "metadata": {},
     "output_type": "display_data"
    }
   ],
   "source": [
    "plt.plot(df1)"
   ]
  },
  {
   "cell_type": "code",
   "execution_count": 7,
   "id": "7d42cef4-91ed-42d4-8778-5de37f81be7a",
   "metadata": {},
   "outputs": [
    {
     "data": {
      "text/plain": [
       "array([[0.00119131],\n",
       "       [0.00121094],\n",
       "       [0.00113448],\n",
       "       ...,\n",
       "       [0.61784544],\n",
       "       [0.6191039 ],\n",
       "       [0.61813476]])"
      ]
     },
     "execution_count": 7,
     "metadata": {},
     "output_type": "execute_result"
    }
   ],
   "source": [
    "scaler = MinMaxScaler(feature_range=(0,1))\n",
    "df1 = scaler.fit_transform(np.array(df1).reshape(-1,1))\n",
    "df1"
   ]
  },
  {
   "cell_type": "markdown",
   "id": "0f191a0f-5f5e-49f4-9133-ce54c8b25928",
   "metadata": {},
   "source": [
    "### Pre processing data"
   ]
  },
  {
   "cell_type": "code",
   "execution_count": 8,
   "id": "a84b0358-e569-421e-890d-5b5bab18630b",
   "metadata": {},
   "outputs": [
    {
     "data": {
      "text/plain": [
       "(3463, 1866)"
      ]
     },
     "execution_count": 8,
     "metadata": {},
     "output_type": "execute_result"
    }
   ],
   "source": [
    "# Train and Test split\n",
    "training_size = int(len(df1)*0.65)\n",
    "test_size = len(df1)-training_size\n",
    "train_data, test_data = df1[0:training_size,:],df1[training_size:len(df1),:1]\n",
    "training_size, test_size"
   ]
  },
  {
   "cell_type": "code",
   "execution_count": 9,
   "id": "7240bf59-77b5-4425-9413-90ad0e92fdff",
   "metadata": {},
   "outputs": [],
   "source": [
    "# Convert array of elements to dataset matrix\n",
    "def create_dataset(dataset, time_step=1):\n",
    "    dataX, dataY = [], []\n",
    "    for i in range(len(dataset)-time_step-1):\n",
    "        a = dataset[i:(i+time_step), 0]\n",
    "        dataX.append(a)\n",
    "        dataY.append(dataset[i+time_step, 0])\n",
    "    return np.array(dataX), np.array(dataY)"
   ]
  },
  {
   "cell_type": "code",
   "execution_count": 10,
   "id": "9df8e8d5-3e55-4976-9d96-adbc0f4e3add",
   "metadata": {},
   "outputs": [
    {
     "data": {
      "text/plain": [
       "((3362, 100), (3362,), (1765, 100), (1765,))"
      ]
     },
     "execution_count": 10,
     "metadata": {},
     "output_type": "execute_result"
    }
   ],
   "source": [
    "time_step = 100\n",
    "X_train, y_train = create_dataset(train_data, time_step)\n",
    "X_test, y_test = create_dataset(test_data, time_step)\n",
    "X_train.shape, y_train.shape, X_test.shape, y_test.shape"
   ]
  },
  {
   "cell_type": "code",
   "execution_count": 11,
   "id": "8aa3e277-6f2f-4137-a120-ef0563ee35ab",
   "metadata": {},
   "outputs": [],
   "source": [
    "# Reshape input to 3D\n",
    "X_train = X_train.reshape(X_train.shape[0], X_train.shape[1], 1)\n",
    "X_test = X_test.reshape(X_test.shape[0], X_test.shape[1], 1)"
   ]
  },
  {
   "cell_type": "markdown",
   "id": "a6d9d732-79fd-4ed1-b216-a98a99fce2c0",
   "metadata": {},
   "source": [
    "### Creating LSTM model"
   ]
  },
  {
   "cell_type": "code",
   "execution_count": 12,
   "id": "46803659-370f-4b99-ba03-1d14c985b64c",
   "metadata": {},
   "outputs": [],
   "source": [
    "model = Sequential()\n",
    "model.add(LSTM(50, return_sequences=True, input_shape=(100,1)))\n",
    "model.add(LSTM(50, return_sequences=True))\n",
    "model.add(LSTM(50))\n",
    "model.add(Dense(1))\n",
    "model.compile(loss='mean_squared_error', optimizer='adam')"
   ]
  },
  {
   "cell_type": "code",
   "execution_count": 13,
   "id": "6489ebc3-8fd5-4a04-ae08-cd0a9ddb37c2",
   "metadata": {},
   "outputs": [
    {
     "name": "stdout",
     "output_type": "stream",
     "text": [
      "Model: \"sequential\"\n",
      "_________________________________________________________________\n",
      " Layer (type)                Output Shape              Param #   \n",
      "=================================================================\n",
      " lstm (LSTM)                 (None, 100, 50)           10400     \n",
      "                                                                 \n",
      " lstm_1 (LSTM)               (None, 100, 50)           20200     \n",
      "                                                                 \n",
      " lstm_2 (LSTM)               (None, 50)                20200     \n",
      "                                                                 \n",
      " dense (Dense)               (None, 1)                 51        \n",
      "                                                                 \n",
      "=================================================================\n",
      "Total params: 50851 (198.64 KB)\n",
      "Trainable params: 50851 (198.64 KB)\n",
      "Non-trainable params: 0 (0.00 Byte)\n",
      "_________________________________________________________________\n"
     ]
    }
   ],
   "source": [
    "model.summary()"
   ]
  },
  {
   "cell_type": "code",
   "execution_count": 14,
   "id": "f9f0621b-b9df-4225-ae13-ad4d72904c5d",
   "metadata": {},
   "outputs": [
    {
     "name": "stdout",
     "output_type": "stream",
     "text": [
      "Epoch 1/50\n",
      "53/53 [==============================] - 15s 177ms/step - loss: 1.8506e-04 - val_loss: 0.0027\n",
      "Epoch 2/50\n",
      "53/53 [==============================] - 8s 158ms/step - loss: 2.3161e-05 - val_loss: 0.0048\n",
      "Epoch 3/50\n",
      "53/53 [==============================] - 8s 160ms/step - loss: 2.1956e-05 - val_loss: 0.0037\n",
      "Epoch 4/50\n",
      "53/53 [==============================] - 9s 161ms/step - loss: 2.2746e-05 - val_loss: 0.0026\n",
      "Epoch 5/50\n",
      "53/53 [==============================] - 9s 161ms/step - loss: 2.0943e-05 - val_loss: 0.0043\n",
      "Epoch 6/50\n",
      "53/53 [==============================] - 8s 159ms/step - loss: 1.9253e-05 - val_loss: 0.0046\n",
      "Epoch 7/50\n",
      "53/53 [==============================] - 8s 159ms/step - loss: 1.7162e-05 - val_loss: 0.0051\n",
      "Epoch 8/50\n",
      "53/53 [==============================] - 8s 161ms/step - loss: 1.7793e-05 - val_loss: 0.0024\n",
      "Epoch 9/50\n",
      "53/53 [==============================] - 8s 158ms/step - loss: 1.6036e-05 - val_loss: 0.0034\n",
      "Epoch 10/50\n",
      "53/53 [==============================] - 9s 161ms/step - loss: 1.7156e-05 - val_loss: 0.0026\n",
      "Epoch 11/50\n",
      "53/53 [==============================] - 8s 161ms/step - loss: 1.5335e-05 - val_loss: 0.0026\n",
      "Epoch 12/50\n",
      "53/53 [==============================] - 9s 161ms/step - loss: 1.4163e-05 - val_loss: 0.0026\n",
      "Epoch 13/50\n",
      "53/53 [==============================] - 8s 160ms/step - loss: 1.3437e-05 - val_loss: 0.0030\n",
      "Epoch 14/50\n",
      "53/53 [==============================] - 8s 159ms/step - loss: 1.5899e-05 - val_loss: 0.0025\n",
      "Epoch 15/50\n",
      "53/53 [==============================] - 9s 167ms/step - loss: 1.5064e-05 - val_loss: 0.0040\n",
      "Epoch 16/50\n",
      "53/53 [==============================] - 9s 167ms/step - loss: 1.4645e-05 - val_loss: 0.0034\n",
      "Epoch 17/50\n",
      "53/53 [==============================] - 9s 164ms/step - loss: 1.2522e-05 - val_loss: 0.0046\n",
      "Epoch 18/50\n",
      "53/53 [==============================] - 9s 168ms/step - loss: 1.2889e-05 - val_loss: 0.0045\n",
      "Epoch 19/50\n",
      "53/53 [==============================] - 8s 160ms/step - loss: 1.2103e-05 - val_loss: 0.0032\n",
      "Epoch 20/50\n",
      "53/53 [==============================] - 8s 160ms/step - loss: 1.1258e-05 - val_loss: 0.0032\n",
      "Epoch 21/50\n",
      "53/53 [==============================] - 9s 165ms/step - loss: 1.2904e-05 - val_loss: 0.0030\n",
      "Epoch 22/50\n",
      "53/53 [==============================] - 9s 170ms/step - loss: 1.0390e-05 - val_loss: 0.0047\n",
      "Epoch 23/50\n",
      "53/53 [==============================] - 9s 163ms/step - loss: 1.0735e-05 - val_loss: 0.0039\n",
      "Epoch 24/50\n",
      "53/53 [==============================] - 9s 162ms/step - loss: 1.0768e-05 - val_loss: 0.0022\n",
      "Epoch 25/50\n",
      "53/53 [==============================] - 9s 162ms/step - loss: 1.3758e-05 - val_loss: 0.0018\n",
      "Epoch 26/50\n",
      "53/53 [==============================] - 9s 166ms/step - loss: 1.1704e-05 - val_loss: 0.0026\n",
      "Epoch 27/50\n",
      "53/53 [==============================] - 8s 152ms/step - loss: 1.0249e-05 - val_loss: 0.0016\n",
      "Epoch 28/50\n",
      "53/53 [==============================] - 7s 137ms/step - loss: 1.2702e-05 - val_loss: 0.0017\n",
      "Epoch 29/50\n",
      "53/53 [==============================] - 7s 129ms/step - loss: 1.0116e-05 - val_loss: 0.0029\n",
      "Epoch 30/50\n",
      "53/53 [==============================] - 8s 149ms/step - loss: 9.6555e-06 - val_loss: 0.0025\n",
      "Epoch 31/50\n",
      "53/53 [==============================] - 9s 166ms/step - loss: 1.1495e-05 - val_loss: 0.0019\n",
      "Epoch 32/50\n",
      "53/53 [==============================] - 9s 172ms/step - loss: 9.4297e-06 - val_loss: 0.0014\n",
      "Epoch 33/50\n",
      "53/53 [==============================] - 9s 171ms/step - loss: 9.8212e-06 - val_loss: 0.0015\n",
      "Epoch 34/50\n",
      "53/53 [==============================] - 7s 134ms/step - loss: 9.5500e-06 - val_loss: 0.0023\n",
      "Epoch 35/50\n",
      "53/53 [==============================] - 7s 125ms/step - loss: 8.4949e-06 - val_loss: 0.0017\n",
      "Epoch 36/50\n",
      "53/53 [==============================] - 8s 148ms/step - loss: 7.4388e-06 - val_loss: 0.0021\n",
      "Epoch 37/50\n",
      "53/53 [==============================] - 9s 162ms/step - loss: 9.1989e-06 - val_loss: 0.0030\n",
      "Epoch 38/50\n",
      "53/53 [==============================] - 9s 163ms/step - loss: 8.9133e-06 - val_loss: 0.0026\n",
      "Epoch 39/50\n",
      "53/53 [==============================] - 9s 164ms/step - loss: 9.7758e-06 - val_loss: 9.4684e-04\n",
      "Epoch 40/50\n",
      "53/53 [==============================] - 9s 163ms/step - loss: 9.2552e-06 - val_loss: 0.0016\n",
      "Epoch 41/50\n",
      "53/53 [==============================] - 8s 160ms/step - loss: 8.1751e-06 - val_loss: 0.0018\n",
      "Epoch 42/50\n",
      "53/53 [==============================] - 9s 163ms/step - loss: 7.5942e-06 - val_loss: 0.0015\n",
      "Epoch 43/50\n",
      "53/53 [==============================] - 9s 161ms/step - loss: 7.2245e-06 - val_loss: 0.0015\n",
      "Epoch 44/50\n",
      "53/53 [==============================] - 9s 163ms/step - loss: 6.7405e-06 - val_loss: 0.0010\n",
      "Epoch 45/50\n",
      "53/53 [==============================] - 9s 174ms/step - loss: 7.9584e-06 - val_loss: 0.0023\n",
      "Epoch 46/50\n",
      "53/53 [==============================] - 9s 169ms/step - loss: 7.3474e-06 - val_loss: 0.0014\n",
      "Epoch 47/50\n",
      "53/53 [==============================] - 9s 169ms/step - loss: 7.1756e-06 - val_loss: 8.7901e-04\n",
      "Epoch 48/50\n",
      "53/53 [==============================] - 8s 161ms/step - loss: 6.5987e-06 - val_loss: 0.0014\n",
      "Epoch 49/50\n",
      "53/53 [==============================] - 7s 133ms/step - loss: 6.3627e-06 - val_loss: 0.0022\n",
      "Epoch 50/50\n",
      "53/53 [==============================] - 7s 135ms/step - loss: 6.5906e-06 - val_loss: 0.0012\n"
     ]
    },
    {
     "data": {
      "text/plain": [
       "<keras.src.callbacks.History at 0x1b110763d90>"
      ]
     },
     "execution_count": 14,
     "metadata": {},
     "output_type": "execute_result"
    }
   ],
   "source": [
    "model.fit(X_train, y_train, validation_data=(X_test, y_test), epochs = 50, batch_size=64, verbose=1)\n"
   ]
  },
  {
   "cell_type": "markdown",
   "id": "369008f8-83db-4e24-a588-5f08390baff3",
   "metadata": {},
   "source": [
    "### Predicting test data and plotting output"
   ]
  },
  {
   "cell_type": "code",
   "execution_count": 15,
   "id": "63e29a42-2af8-4f68-9451-923a8f4bd686",
   "metadata": {},
   "outputs": [
    {
     "name": "stdout",
     "output_type": "stream",
     "text": [
      "106/106 [==============================] - 4s 26ms/step\n",
      "56/56 [==============================] - 1s 26ms/step\n"
     ]
    }
   ],
   "source": [
    "train_predict = model.predict(X_train)\n",
    "test_predict = model.predict(X_test)"
   ]
  },
  {
   "cell_type": "code",
   "execution_count": 16,
   "id": "d995912a-2af2-4dcf-b091-6284e33e0c0c",
   "metadata": {},
   "outputs": [],
   "source": [
    "# Transform back to original form\n",
    "train_predict = scaler.inverse_transform(train_predict)\n",
    "test_predict = scaler.inverse_transform(test_predict)"
   ]
  },
  {
   "cell_type": "code",
   "execution_count": 17,
   "id": "69afbb27-638f-45ef-89ba-2419398488f8",
   "metadata": {},
   "outputs": [
    {
     "data": {
      "text/plain": [
       "35.51285756442437"
      ]
     },
     "execution_count": 17,
     "metadata": {},
     "output_type": "execute_result"
    }
   ],
   "source": [
    "# Calculate RMSE performance metrics\n",
    "math.sqrt(mean_squared_error(y_train, train_predict))"
   ]
  },
  {
   "cell_type": "code",
   "execution_count": 18,
   "id": "efe21e99-2c49-4fe7-817e-a6da9bf1a31e",
   "metadata": {},
   "outputs": [
    {
     "data": {
      "text/plain": [
       "345.40526963257173"
      ]
     },
     "execution_count": 18,
     "metadata": {},
     "output_type": "execute_result"
    }
   ],
   "source": [
    "# Test data RMSE \n",
    "math.sqrt(mean_squared_error(y_test, test_predict))"
   ]
  },
  {
   "cell_type": "code",
   "execution_count": 19,
   "id": "2bf84456-f7ca-462e-ab22-5b53eed45c0a",
   "metadata": {},
   "outputs": [
    {
     "data": {
      "image/png": "[encoded data removed]",
      "text/plain": [
       "<Figure size 640x480 with 1 Axes>"
      ]
     },
     "metadata": {},
     "output_type": "display_data"
    }
   ],
   "source": [
    "# Shift train predictions for plotting\n",
    "look_back = 100\n",
    "trainPredictPlot = np.empty_like(df1)\n",
    "trainPredictPlot[:, :] = np.nan\n",
    "trainPredictPlot[look_back:len(train_predict)+look_back, :] = train_predict\n",
    "# Shift test predictions for plotting\n",
    "testPredictPlot = np.empty_like(df1)\n",
    "testPredictPlot[:, :] = np.nan\n",
    "testPredictPlot[len(train_predict)+(look_back*2)+1:len(df1)-1, :] = test_predict\n",
    "# Plot baseline and predictions\n",
    "plt.plot(scaler.inverse_transform(df1))\n",
    "plt.plot(trainPredictPlot)\n",
    "plt.plot(testPredictPlot)\n",
    "plt.show()"
   ]
  },
  {
   "cell_type": "markdown",
   "id": "c268bc68-fffa-4996-97b3-af6e7cf4b582",
   "metadata": {},
   "source": [
    "### Predicting next 30 days and plotting output"
   ]
  },
  {
   "cell_type": "code",
   "execution_count": 20,
   "id": "4630a12d-2765-4cb5-8fed-67e227b9d056",
   "metadata": {},
   "outputs": [
    {
     "data": {
      "text/plain": [
       "(1, 100)"
      ]
     },
     "execution_count": 20,
     "metadata": {},
     "output_type": "execute_result"
    }
   ],
   "source": [
    "X_input = test_data[1766:].reshape(1,-1)\n",
    "X_input.shape"
   ]
  },
  {
   "cell_type": "code",
   "execution_count": 21,
   "id": "84413b89-258e-4942-be93-d54d363abbe9",
   "metadata": {},
   "outputs": [],
   "source": [
    "temp_input = list(X_input)\n",
    "temp_input = temp_input[0].tolist()"
   ]
  },
  {
   "cell_type": "code",
   "execution_count": 22,
   "id": "9b37d2f3-8846-4c67-aec5-8013cacea8b2",
   "metadata": {},
   "outputs": [
    {
     "name": "stdout",
     "output_type": "stream",
     "text": [
      "[0.59496707]\n",
      "101\n",
      "1 day input [0.45537296 0.45081645 0.44566686 0.4504693  0.43020363 0.42294214\n",
      " 0.42402703 0.42609553 0.43889719 0.44796682 0.43847769 0.44083551\n",
      " 0.44179022 0.42459114 0.46288037 0.47448145 0.47342547 0.46743688\n",
      " 0.47974673 0.48900441 0.49920237 0.50325259 0.50103942 0.49467477\n",
      " 0.49030627 0.48981446 0.48868618 0.47830022 0.50022938 0.48929374\n",
      " 0.48074483 0.48216243 0.46685829 0.47008403 0.47388837 0.47539271\n",
      " 0.46603376 0.46400865 0.47080729 0.47670905 0.4683048  0.45880119\n",
      " 0.46133259 0.46347345 0.46633756 0.47856058 0.47990587 0.48465044\n",
      " 0.49816087 0.49111636 0.4853303  0.48223474 0.49121758 0.53653689\n",
      " 0.52795903 0.52455976 0.5144052  0.52722134 0.51875922 0.54751593\n",
      " 0.56791179 0.57116644 0.58259389 0.57874616 0.58318697 0.57703929\n",
      " 0.57773358 0.59162013 0.60702549 0.61273924 0.62975026 0.63717084\n",
      " 0.64354998 0.62429688 0.62826036 0.61343359 0.61058395 0.61281155\n",
      " 0.60112374 0.60277274 0.62123027 0.61891584 0.63663564 0.63800985\n",
      " 0.64446129 0.6342489  0.63317849 0.63840039 0.63623062 0.64178523\n",
      " 0.65094169 0.63868971 0.65046431 0.68626554 0.69030132 0.63219487\n",
      " 0.61784544 0.6191039  0.61813476 0.59496707]\n",
      "1 day output [[0.5816402]]\n",
      "2 day input [0.45081645 0.44566686 0.4504693  0.43020363 0.42294214 0.42402703\n",
      " 0.42609553 0.43889719 0.44796682 0.43847769 0.44083551 0.44179022\n",
      " 0.42459114 0.46288037 0.47448145 0.47342547 0.46743688 0.47974673\n",
      " 0.48900441 0.49920237 0.50325259 0.50103942 0.49467477 0.49030627\n",
      " 0.48981446 0.48868618 0.47830022 0.50022938 0.48929374 0.48074483\n",
      " 0.48216243 0.46685829 0.47008403 0.47388837 0.47539271 0.46603376\n",
      " 0.46400865 0.47080729 0.47670905 0.4683048  0.45880119 0.46133259\n",
      " 0.46347345 0.46633756 0.47856058 0.47990587 0.48465044 0.49816087\n",
      " 0.49111636 0.4853303  0.48223474 0.49121758 0.53653689 0.52795903\n",
      " 0.52455976 0.5144052  0.52722134 0.51875922 0.54751593 0.56791179\n",
      " 0.57116644 0.58259389 0.57874616 0.58318697 0.57703929 0.57773358\n",
      " 0.59162013 0.60702549 0.61273924 0.62975026 0.63717084 0.64354998\n",
      " 0.62429688 0.62826036 0.61343359 0.61058395 0.61281155 0.60112374\n",
      " 0.60277274 0.62123027 0.61891584 0.63663564 0.63800985 0.64446129\n",
      " 0.6342489  0.63317849 0.63840039 0.63623062 0.64178523 0.65094169\n",
      " 0.63868971 0.65046431 0.68626554 0.69030132 0.63219487 0.61784544\n",
      " 0.6191039  0.61813476 0.59496707 0.58164018]\n",
      "2 day output [[0.5680497]]\n",
      "3 day input [0.44566686 0.4504693  0.43020363 0.42294214 0.42402703 0.42609553\n",
      " 0.43889719 0.44796682 0.43847769 0.44083551 0.44179022 0.42459114\n",
      " 0.46288037 0.47448145 0.47342547 0.46743688 0.47974673 0.48900441\n",
      " 0.49920237 0.50325259 0.50103942 0.49467477 0.49030627 0.48981446\n",
      " 0.48868618 0.47830022 0.50022938 0.48929374 0.48074483 0.48216243\n",
      " 0.46685829 0.47008403 0.47388837 0.47539271 0.46603376 0.46400865\n",
      " 0.47080729 0.47670905 0.4683048  0.45880119 0.46133259 0.46347345\n",
      " 0.46633756 0.47856058 0.47990587 0.48465044 0.49816087 0.49111636\n",
      " 0.4853303  0.48223474 0.49121758 0.53653689 0.52795903 0.52455976\n",
      " 0.5144052  0.52722134 0.51875922 0.54751593 0.56791179 0.57116644\n",
      " 0.58259389 0.57874616 0.58318697 0.57703929 0.57773358 0.59162013\n",
      " 0.60702549 0.61273924 0.62975026 0.63717084 0.64354998 0.62429688\n",
      " 0.62826036 0.61343359 0.61058395 0.61281155 0.60112374 0.60277274\n",
      " 0.62123027 0.61891584 0.63663564 0.63800985 0.64446129 0.6342489\n",
      " 0.63317849 0.63840039 0.63623062 0.64178523 0.65094169 0.63868971\n",
      " 0.65046431 0.68626554 0.69030132 0.63219487 0.61784544 0.6191039\n",
      " 0.61813476 0.59496707 0.58164018 0.56804973]\n",
      "3 day output [[0.5544714]]\n",
      "4 day input [0.4504693  0.43020363 0.42294214 0.42402703 0.42609553 0.43889719\n",
      " 0.44796682 0.43847769 0.44083551 0.44179022 0.42459114 0.46288037\n",
      " 0.47448145 0.47342547 0.46743688 0.47974673 0.48900441 0.49920237\n",
      " 0.50325259 0.50103942 0.49467477 0.49030627 0.48981446 0.48868618\n",
      " 0.47830022 0.50022938 0.48929374 0.48074483 0.48216243 0.46685829\n",
      " 0.47008403 0.47388837 0.47539271 0.46603376 0.46400865 0.47080729\n",
      " 0.47670905 0.4683048  0.45880119 0.46133259 0.46347345 0.46633756\n",
      " 0.47856058 0.47990587 0.48465044 0.49816087 0.49111636 0.4853303\n",
      " 0.48223474 0.49121758 0.53653689 0.52795903 0.52455976 0.5144052\n",
      " 0.52722134 0.51875922 0.54751593 0.56791179 0.57116644 0.58259389\n",
      " 0.57874616 0.58318697 0.57703929 0.57773358 0.59162013 0.60702549\n",
      " 0.61273924 0.62975026 0.63717084 0.64354998 0.62429688 0.62826036\n",
      " 0.61343359 0.61058395 0.61281155 0.60112374 0.60277274 0.62123027\n",
      " 0.61891584 0.63663564 0.63800985 0.64446129 0.6342489  0.63317849\n",
      " 0.63840039 0.63623062 0.64178523 0.65094169 0.63868971 0.65046431\n",
      " 0.68626554 0.69030132 0.63219487 0.61784544 0.6191039  0.61813476\n",
      " 0.59496707 0.58164018 0.56804973 0.55447137]\n",
      "4 day output [[0.5411643]]\n",
      "5 day input [0.43020363 0.42294214 0.42402703 0.42609553 0.43889719 0.44796682\n",
      " 0.43847769 0.44083551 0.44179022 0.42459114 0.46288037 0.47448145\n",
      " 0.47342547 0.46743688 0.47974673 0.48900441 0.49920237 0.50325259\n",
      " 0.50103942 0.49467477 0.49030627 0.48981446 0.48868618 0.47830022\n",
      " 0.50022938 0.48929374 0.48074483 0.48216243 0.46685829 0.47008403\n",
      " 0.47388837 0.47539271 0.46603376 0.46400865 0.47080729 0.47670905\n",
      " 0.4683048  0.45880119 0.46133259 0.46347345 0.46633756 0.47856058\n",
      " 0.47990587 0.48465044 0.49816087 0.49111636 0.4853303  0.48223474\n",
      " 0.49121758 0.53653689 0.52795903 0.52455976 0.5144052  0.52722134\n",
      " 0.51875922 0.54751593 0.56791179 0.57116644 0.58259389 0.57874616\n",
      " 0.58318697 0.57703929 0.57773358 0.59162013 0.60702549 0.61273924\n",
      " 0.62975026 0.63717084 0.64354998 0.62429688 0.62826036 0.61343359\n",
      " 0.61058395 0.61281155 0.60112374 0.60277274 0.62123027 0.61891584\n",
      " 0.63663564 0.63800985 0.64446129 0.6342489  0.63317849 0.63840039\n",
      " 0.63623062 0.64178523 0.65094169 0.63868971 0.65046431 0.68626554\n",
      " 0.69030132 0.63219487 0.61784544 0.6191039  0.61813476 0.59496707\n",
      " 0.58164018 0.56804973 0.55447137 0.54116428]\n",
      "5 day output [[0.528307]]\n",
      "6 day input [0.42294214 0.42402703 0.42609553 0.43889719 0.44796682 0.43847769\n",
      " 0.44083551 0.44179022 0.42459114 0.46288037 0.47448145 0.47342547\n",
      " 0.46743688 0.47974673 0.48900441 0.49920237 0.50325259 0.50103942\n",
      " 0.49467477 0.49030627 0.48981446 0.48868618 0.47830022 0.50022938\n",
      " 0.48929374 0.48074483 0.48216243 0.46685829 0.47008403 0.47388837\n",
      " 0.47539271 0.46603376 0.46400865 0.47080729 0.47670905 0.4683048\n",
      " 0.45880119 0.46133259 0.46347345 0.46633756 0.47856058 0.47990587\n",
      " 0.48465044 0.49816087 0.49111636 0.4853303  0.48223474 0.49121758\n",
      " 0.53653689 0.52795903 0.52455976 0.5144052  0.52722134 0.51875922\n",
      " 0.54751593 0.56791179 0.57116644 0.58259389 0.57874616 0.58318697\n",
      " 0.57703929 0.57773358 0.59162013 0.60702549 0.61273924 0.62975026\n",
      " 0.63717084 0.64354998 0.62429688 0.62826036 0.61343359 0.61058395\n",
      " 0.61281155 0.60112374 0.60277274 0.62123027 0.61891584 0.63663564\n",
      " 0.63800985 0.64446129 0.6342489  0.63317849 0.63840039 0.63623062\n",
      " 0.64178523 0.65094169 0.63868971 0.65046431 0.68626554 0.69030132\n",
      " 0.63219487 0.61784544 0.6191039  0.61813476 0.59496707 0.58164018\n",
      " 0.56804973 0.55447137 0.54116428 0.52830702]\n",
      "6 day output [[0.5160114]]\n",
      "7 day input [0.42402703 0.42609553 0.43889719 0.44796682 0.43847769 0.44083551\n",
      " 0.44179022 0.42459114 0.46288037 0.47448145 0.47342547 0.46743688\n",
      " 0.47974673 0.48900441 0.49920237 0.50325259 0.50103942 0.49467477\n",
      " 0.49030627 0.48981446 0.48868618 0.47830022 0.50022938 0.48929374\n",
      " 0.48074483 0.48216243 0.46685829 0.47008403 0.47388837 0.47539271\n",
      " 0.46603376 0.46400865 0.47080729 0.47670905 0.4683048  0.45880119\n",
      " 0.46133259 0.46347345 0.46633756 0.47856058 0.47990587 0.48465044\n",
      " 0.49816087 0.49111636 0.4853303  0.48223474 0.49121758 0.53653689\n",
      " 0.52795903 0.52455976 0.5144052  0.52722134 0.51875922 0.54751593\n",
      " 0.56791179 0.57116644 0.58259389 0.57874616 0.58318697 0.57703929\n",
      " 0.57773358 0.59162013 0.60702549 0.61273924 0.62975026 0.63717084\n",
      " 0.64354998 0.62429688 0.62826036 0.61343359 0.61058395 0.61281155\n",
      " 0.60112374 0.60277274 0.62123027 0.61891584 0.63663564 0.63800985\n",
      " 0.64446129 0.6342489  0.63317849 0.63840039 0.63623062 0.64178523\n",
      " 0.65094169 0.63868971 0.65046431 0.68626554 0.69030132 0.63219487\n",
      " 0.61784544 0.6191039  0.61813476 0.59496707 0.58164018 0.56804973\n",
      " 0.55447137 0.54116428 0.52830702 0.51601142]\n",
      "7 day output [[0.50434285]]\n",
      "8 day input [0.42609553 0.43889719 0.44796682 0.43847769 0.44083551 0.44179022\n",
      " 0.42459114 0.46288037 0.47448145 0.47342547 0.46743688 0.47974673\n",
      " 0.48900441 0.49920237 0.50325259 0.50103942 0.49467477 0.49030627\n",
      " 0.48981446 0.48868618 0.47830022 0.50022938 0.48929374 0.48074483\n",
      " 0.48216243 0.46685829 0.47008403 0.47388837 0.47539271 0.46603376\n",
      " 0.46400865 0.47080729 0.47670905 0.4683048  0.45880119 0.46133259\n",
      " 0.46347345 0.46633756 0.47856058 0.47990587 0.48465044 0.49816087\n",
      " 0.49111636 0.4853303  0.48223474 0.49121758 0.53653689 0.52795903\n",
      " 0.52455976 0.5144052  0.52722134 0.51875922 0.54751593 0.56791179\n",
      " 0.57116644 0.58259389 0.57874616 0.58318697 0.57703929 0.57773358\n",
      " 0.59162013 0.60702549 0.61273924 0.62975026 0.63717084 0.64354998\n",
      " 0.62429688 0.62826036 0.61343359 0.61058395 0.61281155 0.60112374\n",
      " 0.60277274 0.62123027 0.61891584 0.63663564 0.63800985 0.64446129\n",
      " 0.6342489  0.63317849 0.63840039 0.63623062 0.64178523 0.65094169\n",
      " 0.63868971 0.65046431 0.68626554 0.69030132 0.63219487 0.61784544\n",
      " 0.6191039  0.61813476 0.59496707 0.58164018 0.56804973 0.55447137\n",
      " 0.54116428 0.52830702 0.51601142 0.50434285]\n",
      "8 day output [[0.49333635]]\n",
      "9 day input [0.43889719 0.44796682 0.43847769 0.44083551 0.44179022 0.42459114\n",
      " 0.46288037 0.47448145 0.47342547 0.46743688 0.47974673 0.48900441\n",
      " 0.49920237 0.50325259 0.50103942 0.49467477 0.49030627 0.48981446\n",
      " 0.48868618 0.47830022 0.50022938 0.48929374 0.48074483 0.48216243\n",
      " 0.46685829 0.47008403 0.47388837 0.47539271 0.46603376 0.46400865\n",
      " 0.47080729 0.47670905 0.4683048  0.45880119 0.46133259 0.46347345\n",
      " 0.46633756 0.47856058 0.47990587 0.48465044 0.49816087 0.49111636\n",
      " 0.4853303  0.48223474 0.49121758 0.53653689 0.52795903 0.52455976\n",
      " 0.5144052  0.52722134 0.51875922 0.54751593 0.56791179 0.57116644\n",
      " 0.58259389 0.57874616 0.58318697 0.57703929 0.57773358 0.59162013\n",
      " 0.60702549 0.61273924 0.62975026 0.63717084 0.64354998 0.62429688\n",
      " 0.62826036 0.61343359 0.61058395 0.61281155 0.60112374 0.60277274\n",
      " 0.62123027 0.61891584 0.63663564 0.63800985 0.64446129 0.6342489\n",
      " 0.63317849 0.63840039 0.63623062 0.64178523 0.65094169 0.63868971\n",
      " 0.65046431 0.68626554 0.69030132 0.63219487 0.61784544 0.6191039\n",
      " 0.61813476 0.59496707 0.58164018 0.56804973 0.55447137 0.54116428\n",
      " 0.52830702 0.51601142 0.50434285 0.49333635]\n",
      "9 day output [[0.48300412]]\n",
      "10 day input [0.44796682 0.43847769 0.44083551 0.44179022 0.42459114 0.46288037\n",
      " 0.47448145 0.47342547 0.46743688 0.47974673 0.48900441 0.49920237\n",
      " 0.50325259 0.50103942 0.49467477 0.49030627 0.48981446 0.48868618\n",
      " 0.47830022 0.50022938 0.48929374 0.48074483 0.48216243 0.46685829\n",
      " 0.47008403 0.47388837 0.47539271 0.46603376 0.46400865 0.47080729\n",
      " 0.47670905 0.4683048  0.45880119 0.46133259 0.46347345 0.46633756\n",
      " 0.47856058 0.47990587 0.48465044 0.49816087 0.49111636 0.4853303\n",
      " 0.48223474 0.49121758 0.53653689 0.52795903 0.52455976 0.5144052\n",
      " 0.52722134 0.51875922 0.54751593 0.56791179 0.57116644 0.58259389\n",
      " 0.57874616 0.58318697 0.57703929 0.57773358 0.59162013 0.60702549\n",
      " 0.61273924 0.62975026 0.63717084 0.64354998 0.62429688 0.62826036\n",
      " 0.61343359 0.61058395 0.61281155 0.60112374 0.60277274 0.62123027\n",
      " 0.61891584 0.63663564 0.63800985 0.64446129 0.6342489  0.63317849\n",
      " 0.63840039 0.63623062 0.64178523 0.65094169 0.63868971 0.65046431\n",
      " 0.68626554 0.69030132 0.63219487 0.61784544 0.6191039  0.61813476\n",
      " 0.59496707 0.58164018 0.56804973 0.55447137 0.54116428 0.52830702\n",
      " 0.51601142 0.50434285 0.49333635 0.48300412]\n",
      "10 day output [[0.4733414]]\n",
      "11 day input [0.43847769 0.44083551 0.44179022 0.42459114 0.46288037 0.47448145\n",
      " 0.47342547 0.46743688 0.47974673 0.48900441 0.49920237 0.50325259\n",
      " 0.50103942 0.49467477 0.49030627 0.48981446 0.48868618 0.47830022\n",
      " 0.50022938 0.48929374 0.48074483 0.48216243 0.46685829 0.47008403\n",
      " 0.47388837 0.47539271 0.46603376 0.46400865 0.47080729 0.47670905\n",
      " 0.4683048  0.45880119 0.46133259 0.46347345 0.46633756 0.47856058\n",
      " 0.47990587 0.48465044 0.49816087 0.49111636 0.4853303  0.48223474\n",
      " 0.49121758 0.53653689 0.52795903 0.52455976 0.5144052  0.52722134\n",
      " 0.51875922 0.54751593 0.56791179 0.57116644 0.58259389 0.57874616\n",
      " 0.58318697 0.57703929 0.57773358 0.59162013 0.60702549 0.61273924\n",
      " 0.62975026 0.63717084 0.64354998 0.62429688 0.62826036 0.61343359\n",
      " 0.61058395 0.61281155 0.60112374 0.60277274 0.62123027 0.61891584\n",
      " 0.63663564 0.63800985 0.64446129 0.6342489  0.63317849 0.63840039\n",
      " 0.63623062 0.64178523 0.65094169 0.63868971 0.65046431 0.68626554\n",
      " 0.69030132 0.63219487 0.61784544 0.6191039  0.61813476 0.59496707\n",
      " 0.58164018 0.56804973 0.55447137 0.54116428 0.52830702 0.51601142\n",
      " 0.50434285 0.49333635 0.48300412 0.47334141]\n",
      "11 day output [[0.46433067]]\n",
      "12 day input [0.44083551 0.44179022 0.42459114 0.46288037 0.47448145 0.47342547\n",
      " 0.46743688 0.47974673 0.48900441 0.49920237 0.50325259 0.50103942\n",
      " 0.49467477 0.49030627 0.48981446 0.48868618 0.47830022 0.50022938\n",
      " 0.48929374 0.48074483 0.48216243 0.46685829 0.47008403 0.47388837\n",
      " 0.47539271 0.46603376 0.46400865 0.47080729 0.47670905 0.4683048\n",
      " 0.45880119 0.46133259 0.46347345 0.46633756 0.47856058 0.47990587\n",
      " 0.48465044 0.49816087 0.49111636 0.4853303  0.48223474 0.49121758\n",
      " 0.53653689 0.52795903 0.52455976 0.5144052  0.52722134 0.51875922\n",
      " 0.54751593 0.56791179 0.57116644 0.58259389 0.57874616 0.58318697\n",
      " 0.57703929 0.57773358 0.59162013 0.60702549 0.61273924 0.62975026\n",
      " 0.63717084 0.64354998 0.62429688 0.62826036 0.61343359 0.61058395\n",
      " 0.61281155 0.60112374 0.60277274 0.62123027 0.61891584 0.63663564\n",
      " 0.63800985 0.64446129 0.6342489  0.63317849 0.63840039 0.63623062\n",
      " 0.64178523 0.65094169 0.63868971 0.65046431 0.68626554 0.69030132\n",
      " 0.63219487 0.61784544 0.6191039  0.61813476 0.59496707 0.58164018\n",
      " 0.56804973 0.55447137 0.54116428 0.52830702 0.51601142 0.50434285\n",
      " 0.49333635 0.48300412 0.47334141 0.46433067]\n",
      "12 day output [[0.4559443]]\n",
      "13 day input [0.44179022 0.42459114 0.46288037 0.47448145 0.47342547 0.46743688\n",
      " 0.47974673 0.48900441 0.49920237 0.50325259 0.50103942 0.49467477\n",
      " 0.49030627 0.48981446 0.48868618 0.47830022 0.50022938 0.48929374\n",
      " 0.48074483 0.48216243 0.46685829 0.47008403 0.47388837 0.47539271\n",
      " 0.46603376 0.46400865 0.47080729 0.47670905 0.4683048  0.45880119\n",
      " 0.46133259 0.46347345 0.46633756 0.47856058 0.47990587 0.48465044\n",
      " 0.49816087 0.49111636 0.4853303  0.48223474 0.49121758 0.53653689\n",
      " 0.52795903 0.52455976 0.5144052  0.52722134 0.51875922 0.54751593\n",
      " 0.56791179 0.57116644 0.58259389 0.57874616 0.58318697 0.57703929\n",
      " 0.57773358 0.59162013 0.60702549 0.61273924 0.62975026 0.63717084\n",
      " 0.64354998 0.62429688 0.62826036 0.61343359 0.61058395 0.61281155\n",
      " 0.60112374 0.60277274 0.62123027 0.61891584 0.63663564 0.63800985\n",
      " 0.64446129 0.6342489  0.63317849 0.63840039 0.63623062 0.64178523\n",
      " 0.65094169 0.63868971 0.65046431 0.68626554 0.69030132 0.63219487\n",
      " 0.61784544 0.6191039  0.61813476 0.59496707 0.58164018 0.56804973\n",
      " 0.55447137 0.54116428 0.52830702 0.51601142 0.50434285 0.49333635\n",
      " 0.48300412 0.47334141 0.46433067 0.4559443 ]\n",
      "13 day output [[0.4481482]]\n",
      "14 day input [0.42459114 0.46288037 0.47448145 0.47342547 0.46743688 0.47974673\n",
      " 0.48900441 0.49920237 0.50325259 0.50103942 0.49467477 0.49030627\n",
      " 0.48981446 0.48868618 0.47830022 0.50022938 0.48929374 0.48074483\n",
      " 0.48216243 0.46685829 0.47008403 0.47388837 0.47539271 0.46603376\n",
      " 0.46400865 0.47080729 0.47670905 0.4683048  0.45880119 0.46133259\n",
      " 0.46347345 0.46633756 0.47856058 0.47990587 0.48465044 0.49816087\n",
      " 0.49111636 0.4853303  0.48223474 0.49121758 0.53653689 0.52795903\n",
      " 0.52455976 0.5144052  0.52722134 0.51875922 0.54751593 0.56791179\n",
      " 0.57116644 0.58259389 0.57874616 0.58318697 0.57703929 0.57773358\n",
      " 0.59162013 0.60702549 0.61273924 0.62975026 0.63717084 0.64354998\n",
      " 0.62429688 0.62826036 0.61343359 0.61058395 0.61281155 0.60112374\n",
      " 0.60277274 0.62123027 0.61891584 0.63663564 0.63800985 0.64446129\n",
      " 0.6342489  0.63317849 0.63840039 0.63623062 0.64178523 0.65094169\n",
      " 0.63868971 0.65046431 0.68626554 0.69030132 0.63219487 0.61784544\n",
      " 0.6191039  0.61813476 0.59496707 0.58164018 0.56804973 0.55447137\n",
      " 0.54116428 0.52830702 0.51601142 0.50434285 0.49333635 0.48300412\n",
      " 0.47334141 0.46433067 0.4559443  0.44814819]\n",
      "14 day output [[0.44090372]]\n",
      "15 day input [0.46288037 0.47448145 0.47342547 0.46743688 0.47974673 0.48900441\n",
      " 0.49920237 0.50325259 0.50103942 0.49467477 0.49030627 0.48981446\n",
      " 0.48868618 0.47830022 0.50022938 0.48929374 0.48074483 0.48216243\n",
      " 0.46685829 0.47008403 0.47388837 0.47539271 0.46603376 0.46400865\n",
      " 0.47080729 0.47670905 0.4683048  0.45880119 0.46133259 0.46347345\n",
      " 0.46633756 0.47856058 0.47990587 0.48465044 0.49816087 0.49111636\n",
      " 0.4853303  0.48223474 0.49121758 0.53653689 0.52795903 0.52455976\n",
      " 0.5144052  0.52722134 0.51875922 0.54751593 0.56791179 0.57116644\n",
      " 0.58259389 0.57874616 0.58318697 0.57703929 0.57773358 0.59162013\n",
      " 0.60702549 0.61273924 0.62975026 0.63717084 0.64354998 0.62429688\n",
      " 0.62826036 0.61343359 0.61058395 0.61281155 0.60112374 0.60277274\n",
      " 0.62123027 0.61891584 0.63663564 0.63800985 0.64446129 0.6342489\n",
      " 0.63317849 0.63840039 0.63623062 0.64178523 0.65094169 0.63868971\n",
      " 0.65046431 0.68626554 0.69030132 0.63219487 0.61784544 0.6191039\n",
      " 0.61813476 0.59496707 0.58164018 0.56804973 0.55447137 0.54116428\n",
      " 0.52830702 0.51601142 0.50434285 0.49333635 0.48300412 0.47334141\n",
      " 0.46433067 0.4559443  0.44814819 0.44090372]\n",
      "15 day output [[0.43416968]]\n",
      "16 day input [0.47448145 0.47342547 0.46743688 0.47974673 0.48900441 0.49920237\n",
      " 0.50325259 0.50103942 0.49467477 0.49030627 0.48981446 0.48868618\n",
      " 0.47830022 0.50022938 0.48929374 0.48074483 0.48216243 0.46685829\n",
      " 0.47008403 0.47388837 0.47539271 0.46603376 0.46400865 0.47080729\n",
      " 0.47670905 0.4683048  0.45880119 0.46133259 0.46347345 0.46633756\n",
      " 0.47856058 0.47990587 0.48465044 0.49816087 0.49111636 0.4853303\n",
      " 0.48223474 0.49121758 0.53653689 0.52795903 0.52455976 0.5144052\n",
      " 0.52722134 0.51875922 0.54751593 0.56791179 0.57116644 0.58259389\n",
      " 0.57874616 0.58318697 0.57703929 0.57773358 0.59162013 0.60702549\n",
      " 0.61273924 0.62975026 0.63717084 0.64354998 0.62429688 0.62826036\n",
      " 0.61343359 0.61058395 0.61281155 0.60112374 0.60277274 0.62123027\n",
      " 0.61891584 0.63663564 0.63800985 0.64446129 0.6342489  0.63317849\n",
      " 0.63840039 0.63623062 0.64178523 0.65094169 0.63868971 0.65046431\n",
      " 0.68626554 0.69030132 0.63219487 0.61784544 0.6191039  0.61813476\n",
      " 0.59496707 0.58164018 0.56804973 0.55447137 0.54116428 0.52830702\n",
      " 0.51601142 0.50434285 0.49333635 0.48300412 0.47334141 0.46433067\n",
      " 0.4559443  0.44814819 0.44090372 0.43416968]\n",
      "16 day output [[0.4279047]]\n",
      "17 day input [0.47342547 0.46743688 0.47974673 0.48900441 0.49920237 0.50325259\n",
      " 0.50103942 0.49467477 0.49030627 0.48981446 0.48868618 0.47830022\n",
      " 0.50022938 0.48929374 0.48074483 0.48216243 0.46685829 0.47008403\n",
      " 0.47388837 0.47539271 0.46603376 0.46400865 0.47080729 0.47670905\n",
      " 0.4683048  0.45880119 0.46133259 0.46347345 0.46633756 0.47856058\n",
      " 0.47990587 0.48465044 0.49816087 0.49111636 0.4853303  0.48223474\n",
      " 0.49121758 0.53653689 0.52795903 0.52455976 0.5144052  0.52722134\n",
      " 0.51875922 0.54751593 0.56791179 0.57116644 0.58259389 0.57874616\n",
      " 0.58318697 0.57703929 0.57773358 0.59162013 0.60702549 0.61273924\n",
      " 0.62975026 0.63717084 0.64354998 0.62429688 0.62826036 0.61343359\n",
      " 0.61058395 0.61281155 0.60112374 0.60277274 0.62123027 0.61891584\n",
      " 0.63663564 0.63800985 0.64446129 0.6342489  0.63317849 0.63840039\n",
      " 0.63623062 0.64178523 0.65094169 0.63868971 0.65046431 0.68626554\n",
      " 0.69030132 0.63219487 0.61784544 0.6191039  0.61813476 0.59496707\n",
      " 0.58164018 0.56804973 0.55447137 0.54116428 0.52830702 0.51601142\n",
      " 0.50434285 0.49333635 0.48300412 0.47334141 0.46433067 0.4559443\n",
      " 0.44814819 0.44090372 0.43416968 0.4279047 ]\n",
      "17 day output [[0.42206722]]\n",
      "18 day input [0.46743688 0.47974673 0.48900441 0.49920237 0.50325259 0.50103942\n",
      " 0.49467477 0.49030627 0.48981446 0.48868618 0.47830022 0.50022938\n",
      " 0.48929374 0.48074483 0.48216243 0.46685829 0.47008403 0.47388837\n",
      " 0.47539271 0.46603376 0.46400865 0.47080729 0.47670905 0.4683048\n",
      " 0.45880119 0.46133259 0.46347345 0.46633756 0.47856058 0.47990587\n",
      " 0.48465044 0.49816087 0.49111636 0.4853303  0.48223474 0.49121758\n",
      " 0.53653689 0.52795903 0.52455976 0.5144052  0.52722134 0.51875922\n",
      " 0.54751593 0.56791179 0.57116644 0.58259389 0.57874616 0.58318697\n",
      " 0.57703929 0.57773358 0.59162013 0.60702549 0.61273924 0.62975026\n",
      " 0.63717084 0.64354998 0.62429688 0.62826036 0.61343359 0.61058395\n",
      " 0.61281155 0.60112374 0.60277274 0.62123027 0.61891584 0.63663564\n",
      " 0.63800985 0.64446129 0.6342489  0.63317849 0.63840039 0.63623062\n",
      " 0.64178523 0.65094169 0.63868971 0.65046431 0.68626554 0.69030132\n",
      " 0.63219487 0.61784544 0.6191039  0.61813476 0.59496707 0.58164018\n",
      " 0.56804973 0.55447137 0.54116428 0.52830702 0.51601142 0.50434285\n",
      " 0.49333635 0.48300412 0.47334141 0.46433067 0.4559443  0.44814819\n",
      " 0.44090372 0.43416968 0.4279047  0.42206722]\n",
      "18 day output [[0.41661763]]\n",
      "19 day input [0.47974673 0.48900441 0.49920237 0.50325259 0.50103942 0.49467477\n",
      " 0.49030627 0.48981446 0.48868618 0.47830022 0.50022938 0.48929374\n",
      " 0.48074483 0.48216243 0.46685829 0.47008403 0.47388837 0.47539271\n",
      " 0.46603376 0.46400865 0.47080729 0.47670905 0.4683048  0.45880119\n",
      " 0.46133259 0.46347345 0.46633756 0.47856058 0.47990587 0.48465044\n",
      " 0.49816087 0.49111636 0.4853303  0.48223474 0.49121758 0.53653689\n",
      " 0.52795903 0.52455976 0.5144052  0.52722134 0.51875922 0.54751593\n",
      " 0.56791179 0.57116644 0.58259389 0.57874616 0.58318697 0.57703929\n",
      " 0.57773358 0.59162013 0.60702549 0.61273924 0.62975026 0.63717084\n",
      " 0.64354998 0.62429688 0.62826036 0.61343359 0.61058395 0.61281155\n",
      " 0.60112374 0.60277274 0.62123027 0.61891584 0.63663564 0.63800985\n",
      " 0.64446129 0.6342489  0.63317849 0.63840039 0.63623062 0.64178523\n",
      " 0.65094169 0.63868971 0.65046431 0.68626554 0.69030132 0.63219487\n",
      " 0.61784544 0.6191039  0.61813476 0.59496707 0.58164018 0.56804973\n",
      " 0.55447137 0.54116428 0.52830702 0.51601142 0.50434285 0.49333635\n",
      " 0.48300412 0.47334141 0.46433067 0.4559443  0.44814819 0.44090372\n",
      " 0.43416968 0.4279047  0.42206722 0.41661763]\n",
      "19 day output [[0.41151816]]\n",
      "20 day input [0.48900441 0.49920237 0.50325259 0.50103942 0.49467477 0.49030627\n",
      " 0.48981446 0.48868618 0.47830022 0.50022938 0.48929374 0.48074483\n",
      " 0.48216243 0.46685829 0.47008403 0.47388837 0.47539271 0.46603376\n",
      " 0.46400865 0.47080729 0.47670905 0.4683048  0.45880119 0.46133259\n",
      " 0.46347345 0.46633756 0.47856058 0.47990587 0.48465044 0.49816087\n",
      " 0.49111636 0.4853303  0.48223474 0.49121758 0.53653689 0.52795903\n",
      " 0.52455976 0.5144052  0.52722134 0.51875922 0.54751593 0.56791179\n",
      " 0.57116644 0.58259389 0.57874616 0.58318697 0.57703929 0.57773358\n",
      " 0.59162013 0.60702549 0.61273924 0.62975026 0.63717084 0.64354998\n",
      " 0.62429688 0.62826036 0.61343359 0.61058395 0.61281155 0.60112374\n",
      " 0.60277274 0.62123027 0.61891584 0.63663564 0.63800985 0.64446129\n",
      " 0.6342489  0.63317849 0.63840039 0.63623062 0.64178523 0.65094169\n",
      " 0.63868971 0.65046431 0.68626554 0.69030132 0.63219487 0.61784544\n",
      " 0.6191039  0.61813476 0.59496707 0.58164018 0.56804973 0.55447137\n",
      " 0.54116428 0.52830702 0.51601142 0.50434285 0.49333635 0.48300412\n",
      " 0.47334141 0.46433067 0.4559443  0.44814819 0.44090372 0.43416968\n",
      " 0.4279047  0.42206722 0.41661763 0.41151816]\n",
      "20 day output [[0.40673402]]\n",
      "21 day input [0.49920237 0.50325259 0.50103942 0.49467477 0.49030627 0.48981446\n",
      " 0.48868618 0.47830022 0.50022938 0.48929374 0.48074483 0.48216243\n",
      " 0.46685829 0.47008403 0.47388837 0.47539271 0.46603376 0.46400865\n",
      " 0.47080729 0.47670905 0.4683048  0.45880119 0.46133259 0.46347345\n",
      " 0.46633756 0.47856058 0.47990587 0.48465044 0.49816087 0.49111636\n",
      " 0.4853303  0.48223474 0.49121758 0.53653689 0.52795903 0.52455976\n",
      " 0.5144052  0.52722134 0.51875922 0.54751593 0.56791179 0.57116644\n",
      " 0.58259389 0.57874616 0.58318697 0.57703929 0.57773358 0.59162013\n",
      " 0.60702549 0.61273924 0.62975026 0.63717084 0.64354998 0.62429688\n",
      " 0.62826036 0.61343359 0.61058395 0.61281155 0.60112374 0.60277274\n",
      " 0.62123027 0.61891584 0.63663564 0.63800985 0.64446129 0.6342489\n",
      " 0.63317849 0.63840039 0.63623062 0.64178523 0.65094169 0.63868971\n",
      " 0.65046431 0.68626554 0.69030132 0.63219487 0.61784544 0.6191039\n",
      " 0.61813476 0.59496707 0.58164018 0.56804973 0.55447137 0.54116428\n",
      " 0.52830702 0.51601142 0.50434285 0.49333635 0.48300412 0.47334141\n",
      " 0.46433067 0.4559443  0.44814819 0.44090372 0.43416968 0.4279047\n",
      " 0.42206722 0.41661763 0.41151816 0.40673402]\n",
      "21 day output [[0.40223253]]\n",
      "22 day input [0.50325259 0.50103942 0.49467477 0.49030627 0.48981446 0.48868618\n",
      " 0.47830022 0.50022938 0.48929374 0.48074483 0.48216243 0.46685829\n",
      " 0.47008403 0.47388837 0.47539271 0.46603376 0.46400865 0.47080729\n",
      " 0.47670905 0.4683048  0.45880119 0.46133259 0.46347345 0.46633756\n",
      " 0.47856058 0.47990587 0.48465044 0.49816087 0.49111636 0.4853303\n",
      " 0.48223474 0.49121758 0.53653689 0.52795903 0.52455976 0.5144052\n",
      " 0.52722134 0.51875922 0.54751593 0.56791179 0.57116644 0.58259389\n",
      " 0.57874616 0.58318697 0.57703929 0.57773358 0.59162013 0.60702549\n",
      " 0.61273924 0.62975026 0.63717084 0.64354998 0.62429688 0.62826036\n",
      " 0.61343359 0.61058395 0.61281155 0.60112374 0.60277274 0.62123027\n",
      " 0.61891584 0.63663564 0.63800985 0.64446129 0.6342489  0.63317849\n",
      " 0.63840039 0.63623062 0.64178523 0.65094169 0.63868971 0.65046431\n",
      " 0.68626554 0.69030132 0.63219487 0.61784544 0.6191039  0.61813476\n",
      " 0.59496707 0.58164018 0.56804973 0.55447137 0.54116428 0.52830702\n",
      " 0.51601142 0.50434285 0.49333635 0.48300412 0.47334141 0.46433067\n",
      " 0.4559443  0.44814819 0.44090372 0.43416968 0.4279047  0.42206722\n",
      " 0.41661763 0.41151816 0.40673402 0.40223253]\n",
      "22 day output [[0.3979843]]\n",
      "23 day input [0.50103942 0.49467477 0.49030627 0.48981446 0.48868618 0.47830022\n",
      " 0.50022938 0.48929374 0.48074483 0.48216243 0.46685829 0.47008403\n",
      " 0.47388837 0.47539271 0.46603376 0.46400865 0.47080729 0.47670905\n",
      " 0.4683048  0.45880119 0.46133259 0.46347345 0.46633756 0.47856058\n",
      " 0.47990587 0.48465044 0.49816087 0.49111636 0.4853303  0.48223474\n",
      " 0.49121758 0.53653689 0.52795903 0.52455976 0.5144052  0.52722134\n",
      " 0.51875922 0.54751593 0.56791179 0.57116644 0.58259389 0.57874616\n",
      " 0.58318697 0.57703929 0.57773358 0.59162013 0.60702549 0.61273924\n",
      " 0.62975026 0.63717084 0.64354998 0.62429688 0.62826036 0.61343359\n",
      " 0.61058395 0.61281155 0.60112374 0.60277274 0.62123027 0.61891584\n",
      " 0.63663564 0.63800985 0.64446129 0.6342489  0.63317849 0.63840039\n",
      " 0.63623062 0.64178523 0.65094169 0.63868971 0.65046431 0.68626554\n",
      " 0.69030132 0.63219487 0.61784544 0.6191039  0.61813476 0.59496707\n",
      " 0.58164018 0.56804973 0.55447137 0.54116428 0.52830702 0.51601142\n",
      " 0.50434285 0.49333635 0.48300412 0.47334141 0.46433067 0.4559443\n",
      " 0.44814819 0.44090372 0.43416968 0.4279047  0.42206722 0.41661763\n",
      " 0.41151816 0.40673402 0.40223253 0.3979843 ]\n",
      "23 day output [[0.39396313]]\n",
      "24 day input [0.49467477 0.49030627 0.48981446 0.48868618 0.47830022 0.50022938\n",
      " 0.48929374 0.48074483 0.48216243 0.46685829 0.47008403 0.47388837\n",
      " 0.47539271 0.46603376 0.46400865 0.47080729 0.47670905 0.4683048\n",
      " 0.45880119 0.46133259 0.46347345 0.46633756 0.47856058 0.47990587\n",
      " 0.48465044 0.49816087 0.49111636 0.4853303  0.48223474 0.49121758\n",
      " 0.53653689 0.52795903 0.52455976 0.5144052  0.52722134 0.51875922\n",
      " 0.54751593 0.56791179 0.57116644 0.58259389 0.57874616 0.58318697\n",
      " 0.57703929 0.57773358 0.59162013 0.60702549 0.61273924 0.62975026\n",
      " 0.63717084 0.64354998 0.62429688 0.62826036 0.61343359 0.61058395\n",
      " 0.61281155 0.60112374 0.60277274 0.62123027 0.61891584 0.63663564\n",
      " 0.63800985 0.64446129 0.6342489  0.63317849 0.63840039 0.63623062\n",
      " 0.64178523 0.65094169 0.63868971 0.65046431 0.68626554 0.69030132\n",
      " 0.63219487 0.61784544 0.6191039  0.61813476 0.59496707 0.58164018\n",
      " 0.56804973 0.55447137 0.54116428 0.52830702 0.51601142 0.50434285\n",
      " 0.49333635 0.48300412 0.47334141 0.46433067 0.4559443  0.44814819\n",
      " 0.44090372 0.43416968 0.4279047  0.42206722 0.41661763 0.41151816\n",
      " 0.40673402 0.40223253 0.3979843  0.39396313]\n",
      "24 day output [[0.39014506]]\n",
      "25 day input [0.49030627 0.48981446 0.48868618 0.47830022 0.50022938 0.48929374\n",
      " 0.48074483 0.48216243 0.46685829 0.47008403 0.47388837 0.47539271\n",
      " 0.46603376 0.46400865 0.47080729 0.47670905 0.4683048  0.45880119\n",
      " 0.46133259 0.46347345 0.46633756 0.47856058 0.47990587 0.48465044\n",
      " 0.49816087 0.49111636 0.4853303  0.48223474 0.49121758 0.53653689\n",
      " 0.52795903 0.52455976 0.5144052  0.52722134 0.51875922 0.54751593\n",
      " 0.56791179 0.57116644 0.58259389 0.57874616 0.58318697 0.57703929\n",
      " 0.57773358 0.59162013 0.60702549 0.61273924 0.62975026 0.63717084\n",
      " 0.64354998 0.62429688 0.62826036 0.61343359 0.61058395 0.61281155\n",
      " 0.60112374 0.60277274 0.62123027 0.61891584 0.63663564 0.63800985\n",
      " 0.64446129 0.6342489  0.63317849 0.63840039 0.63623062 0.64178523\n",
      " 0.65094169 0.63868971 0.65046431 0.68626554 0.69030132 0.63219487\n",
      " 0.61784544 0.6191039  0.61813476 0.59496707 0.58164018 0.56804973\n",
      " 0.55447137 0.54116428 0.52830702 0.51601142 0.50434285 0.49333635\n",
      " 0.48300412 0.47334141 0.46433067 0.4559443  0.44814819 0.44090372\n",
      " 0.43416968 0.4279047  0.42206722 0.41661763 0.41151816 0.40673402\n",
      " 0.40223253 0.3979843  0.39396313 0.39014506]\n",
      "25 day output [[0.38650924]]\n",
      "26 day input [0.48981446 0.48868618 0.47830022 0.50022938 0.48929374 0.48074483\n",
      " 0.48216243 0.46685829 0.47008403 0.47388837 0.47539271 0.46603376\n",
      " 0.46400865 0.47080729 0.47670905 0.4683048  0.45880119 0.46133259\n",
      " 0.46347345 0.46633756 0.47856058 0.47990587 0.48465044 0.49816087\n",
      " 0.49111636 0.4853303  0.48223474 0.49121758 0.53653689 0.52795903\n",
      " 0.52455976 0.5144052  0.52722134 0.51875922 0.54751593 0.56791179\n",
      " 0.57116644 0.58259389 0.57874616 0.58318697 0.57703929 0.57773358\n",
      " 0.59162013 0.60702549 0.61273924 0.62975026 0.63717084 0.64354998\n",
      " 0.62429688 0.62826036 0.61343359 0.61058395 0.61281155 0.60112374\n",
      " 0.60277274 0.62123027 0.61891584 0.63663564 0.63800985 0.64446129\n",
      " 0.6342489  0.63317849 0.63840039 0.63623062 0.64178523 0.65094169\n",
      " 0.63868971 0.65046431 0.68626554 0.69030132 0.63219487 0.61784544\n",
      " 0.6191039  0.61813476 0.59496707 0.58164018 0.56804973 0.55447137\n",
      " 0.54116428 0.52830702 0.51601142 0.50434285 0.49333635 0.48300412\n",
      " 0.47334141 0.46433067 0.4559443  0.44814819 0.44090372 0.43416968\n",
      " 0.4279047  0.42206722 0.41661763 0.41151816 0.40673402 0.40223253\n",
      " 0.3979843  0.39396313 0.39014506 0.38650924]\n",
      "26 day output [[0.3830372]]\n",
      "27 day input [0.48868618 0.47830022 0.50022938 0.48929374 0.48074483 0.48216243\n",
      " 0.46685829 0.47008403 0.47388837 0.47539271 0.46603376 0.46400865\n",
      " 0.47080729 0.47670905 0.4683048  0.45880119 0.46133259 0.46347345\n",
      " 0.46633756 0.47856058 0.47990587 0.48465044 0.49816087 0.49111636\n",
      " 0.4853303  0.48223474 0.49121758 0.53653689 0.52795903 0.52455976\n",
      " 0.5144052  0.52722134 0.51875922 0.54751593 0.56791179 0.57116644\n",
      " 0.58259389 0.57874616 0.58318697 0.57703929 0.57773358 0.59162013\n",
      " 0.60702549 0.61273924 0.62975026 0.63717084 0.64354998 0.62429688\n",
      " 0.62826036 0.61343359 0.61058395 0.61281155 0.60112374 0.60277274\n",
      " 0.62123027 0.61891584 0.63663564 0.63800985 0.64446129 0.6342489\n",
      " 0.63317849 0.63840039 0.63623062 0.64178523 0.65094169 0.63868971\n",
      " 0.65046431 0.68626554 0.69030132 0.63219487 0.61784544 0.6191039\n",
      " 0.61813476 0.59496707 0.58164018 0.56804973 0.55447137 0.54116428\n",
      " 0.52830702 0.51601142 0.50434285 0.49333635 0.48300412 0.47334141\n",
      " 0.46433067 0.4559443  0.44814819 0.44090372 0.43416968 0.4279047\n",
      " 0.42206722 0.41661763 0.41151816 0.40673402 0.40223253 0.3979843\n",
      " 0.39396313 0.39014506 0.38650924 0.38303721]\n",
      "27 day output [[0.3797129]]\n",
      "28 day input [0.47830022 0.50022938 0.48929374 0.48074483 0.48216243 0.46685829\n",
      " 0.47008403 0.47388837 0.47539271 0.46603376 0.46400865 0.47080729\n",
      " 0.47670905 0.4683048  0.45880119 0.46133259 0.46347345 0.46633756\n",
      " 0.47856058 0.47990587 0.48465044 0.49816087 0.49111636 0.4853303\n",
      " 0.48223474 0.49121758 0.53653689 0.52795903 0.52455976 0.5144052\n",
      " 0.52722134 0.51875922 0.54751593 0.56791179 0.57116644 0.58259389\n",
      " 0.57874616 0.58318697 0.57703929 0.57773358 0.59162013 0.60702549\n",
      " 0.61273924 0.62975026 0.63717084 0.64354998 0.62429688 0.62826036\n",
      " 0.61343359 0.61058395 0.61281155 0.60112374 0.60277274 0.62123027\n",
      " 0.61891584 0.63663564 0.63800985 0.64446129 0.6342489  0.63317849\n",
      " 0.63840039 0.63623062 0.64178523 0.65094169 0.63868971 0.65046431\n",
      " 0.68626554 0.69030132 0.63219487 0.61784544 0.6191039  0.61813476\n",
      " 0.59496707 0.58164018 0.56804973 0.55447137 0.54116428 0.52830702\n",
      " 0.51601142 0.50434285 0.49333635 0.48300412 0.47334141 0.46433067\n",
      " 0.4559443  0.44814819 0.44090372 0.43416968 0.4279047  0.42206722\n",
      " 0.41661763 0.41151816 0.40673402 0.40223253 0.3979843  0.39396313\n",
      " 0.39014506 0.38650924 0.38303721 0.37971291]\n",
      "28 day output [[0.376522]]\n",
      "29 day input [0.50022938 0.48929374 0.48074483 0.48216243 0.46685829 0.47008403\n",
      " 0.47388837 0.47539271 0.46603376 0.46400865 0.47080729 0.47670905\n",
      " 0.4683048  0.45880119 0.46133259 0.46347345 0.46633756 0.47856058\n",
      " 0.47990587 0.48465044 0.49816087 0.49111636 0.4853303  0.48223474\n",
      " 0.49121758 0.53653689 0.52795903 0.52455976 0.5144052  0.52722134\n",
      " 0.51875922 0.54751593 0.56791179 0.57116644 0.58259389 0.57874616\n",
      " 0.58318697 0.57703929 0.57773358 0.59162013 0.60702549 0.61273924\n",
      " 0.62975026 0.63717084 0.64354998 0.62429688 0.62826036 0.61343359\n",
      " 0.61058395 0.61281155 0.60112374 0.60277274 0.62123027 0.61891584\n",
      " 0.63663564 0.63800985 0.64446129 0.6342489  0.63317849 0.63840039\n",
      " 0.63623062 0.64178523 0.65094169 0.63868971 0.65046431 0.68626554\n",
      " 0.69030132 0.63219487 0.61784544 0.6191039  0.61813476 0.59496707\n",
      " 0.58164018 0.56804973 0.55447137 0.54116428 0.52830702 0.51601142\n",
      " 0.50434285 0.49333635 0.48300412 0.47334141 0.46433067 0.4559443\n",
      " 0.44814819 0.44090372 0.43416968 0.4279047  0.42206722 0.41661763\n",
      " 0.41151816 0.40673402 0.40223253 0.3979843  0.39396313 0.39014506\n",
      " 0.38650924 0.38303721 0.37971291 0.376522  ]\n",
      "29 day output [[0.37345254]]\n",
      "[[0.5949670672416687], [0.5816401839256287], [0.5680497288703918], [0.5544713735580444], [0.5411642789840698], [0.5283070206642151], [0.5160114169120789], [0.5043428540229797], [0.49333634972572327], [0.4830041229724884], [0.4733414053916931], [0.46433067321777344], [0.455944299697876], [0.4481481909751892], [0.4409037232398987], [0.4341696798801422], [0.4279046952724457], [0.42206722497940063], [0.41661763191223145], [0.4115181565284729], [0.40673401951789856], [0.4022325277328491], [0.3979842960834503], [0.39396312832832336], [0.39014506340026855], [0.3865092396736145], [0.3830372095108032], [0.37971290946006775], [0.3765220046043396], [0.3734525442123413]]\n"
     ]
    }
   ],
   "source": [
    "# Prediciton for next 30 days\n",
    "lst_output = []\n",
    "n_steps = 100\n",
    "i=0\n",
    "while (i<30):\n",
    "    if (len(temp_input)>100):\n",
    "        X_input = np.array(temp_input[1:])\n",
    "        print(\"{} day input {}\".format(i,X_input))\n",
    "        X_input = X_input.reshape((1, n_steps, 1))\n",
    "        yhat = model.predict(X_input, verbose = 0)\n",
    "        print(\"{} day output {}\".format(i, yhat))\n",
    "        temp_input.extend(yhat[0].tolist())\n",
    "        temp_input = temp_input[1:]\n",
    "        lst_output.extend(yhat.tolist())\n",
    "        i+=1\n",
    "    else:\n",
    "        X_input = X_input.reshape((1,n_steps,1))\n",
    "        yhat = model.predict(X_input, verbose=0)\n",
    "        print(yhat[0])\n",
    "        temp_input.extend(yhat[0].tolist())\n",
    "        print(len(temp_input))\n",
    "        lst_output.extend(yhat.tolist())\n",
    "        i+=1\n",
    "\n",
    "print(lst_output)"
   ]
  },
  {
   "cell_type": "code",
   "execution_count": 23,
   "id": "c855d42f-57d4-4be3-b62b-8059c735e527",
   "metadata": {},
   "outputs": [],
   "source": [
    "day_new = np.arange(1,101)\n",
    "day_pred = np.arange(101,131)"
   ]
  },
  {
   "cell_type": "code",
   "execution_count": 24,
   "id": "5632cab6-ac3c-4d11-bc30-c9f18f6eadf5",
   "metadata": {},
   "outputs": [],
   "source": [
    "df3 = df1.tolist()\n",
    "df3.extend(lst_output)"
   ]
  },
  {
   "cell_type": "code",
   "execution_count": 25,
   "id": "4e2a069f-b76a-452b-bedd-4835f358e7f4",
   "metadata": {},
   "outputs": [
    {
     "data": {
      "text/plain": [
       "[<matplotlib.lines.Line2D at 0x1b11bd1ed50>]"
      ]
     },
     "execution_count": 25,
     "metadata": {},
     "output_type": "execute_result"
    },
    {
     "data": {
      "image/png": "[encoded data removed]",
      "text/plain": [
       "<Figure size 640x480 with 1 Axes>"
      ]
     },
     "metadata": {},
     "output_type": "display_data"
    }
   ],
   "source": [
    "plt.plot(day_new, scaler.inverse_transform(df1[5229:]))\n",
    "plt.plot(day_pred,scaler.inverse_transform(lst_output))"
   ]
  },
  {
   "cell_type": "code",
   "execution_count": 26,
   "id": "930a5d49-b41b-456c-a667-69332606b279",
   "metadata": {},
   "outputs": [
    {
     "data": {
      "text/plain": [
       "[<matplotlib.lines.Line2D at 0x1b11aabc5d0>]"
      ]
     },
     "execution_count": 26,
     "metadata": {},
     "output_type": "execute_result"
    },
    {
     "data": {
      "image/png": "[encoded data removed]",
      "text/plain": [
       "<Figure size 640x480 with 1 Axes>"
      ]
     },
     "metadata": {},
     "output_type": "display_data"
    }
   ],
   "source": [
    "df3 = df1.tolist()\n",
    "df3.extend(lst_output)\n",
    "plt.plot(df3[5229:])"
   ]
  },
  {
   "cell_type": "code",
   "execution_count": 27,
   "id": "bd256b4e-cb5d-435a-b0b3-b85e6ebbf397",
   "metadata": {},
   "outputs": [
    {
     "data": {
      "text/plain": [
       "[<matplotlib.lines.Line2D at 0x1b11bdaf4d0>]"
      ]
     },
     "execution_count": 27,
     "metadata": {},
     "output_type": "execute_result"
    },
    {
     "data": {
      "image/png": "[encoded data removed]",
      "text/plain": [
       "<Figure size 640x480 with 1 Axes>"
      ]
     },
     "metadata": {},
     "output_type": "display_data"
    }
   ],
   "source": [
    "df3 = scaler.inverse_transform(df3).tolist()\n",
    "plt.plot(df3)"
   ]
  },
  {
   "cell_type": "code",
   "execution_count": null,
   "id": "06c8f326-249a-4c34-9403-e1d0a5fa75a5",
   "metadata": {},
   "outputs": [],
   "source": []
  }
 ],
 "metadata": {
  "kernelspec": {
   "display_name": "Python 3 (ipykernel)",
   "language": "python",
   "name": "python3"
  },
  "language_info": {
   "codemirror_mode": {
    "name": "ipython",
    "version": 3
   },
   "file_extension": ".py",
   "mimetype": "text/x-python",
   "name": "python",
   "nbconvert_exporter": "python",
   "pygments_lexer": "ipython3",
   "version": "3.11.4"
  }
 },
 "nbformat": 4,
 "nbformat_minor": 5
}
